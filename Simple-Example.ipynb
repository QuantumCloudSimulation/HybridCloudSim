{
 "cells": [
  {
   "cell_type": "code",
   "execution_count": 3,
   "id": "7b522d21-77c9-4bfd-9030-e8506186fbf7",
   "metadata": {},
   "outputs": [
    {
     "name": "stdout",
     "output_type": "stream",
     "text": [
      "1.00: Job 0 requires 6 qubits; QPU-1 has 127/127 free\n",
      "1.00: Job 0 processing on qpu\n",
      "1.40: Job 0 finished processing on qpu\n",
      "1.40: Job 0 processing on cpu\n",
      "3.40: Job 0 ITERATION 1/3.0 complete\n",
      "3.40: Job 0 requires 6 qubits; QPU-1 has 127/127 free\n",
      "3.40: Job 0 processing on qpu\n",
      "3.80: Job 0 finished processing on qpu\n",
      "3.80: Job 0 processing on cpu\n",
      "6.16: Job 0 ITERATION 2/3.0 complete\n",
      "6.16: Job 0 requires 6 qubits; QPU-1 has 127/127 free\n",
      "6.16: Job 0 processing on qpu\n",
      "6.56: Job 0 finished processing on qpu\n",
      "6.56: Job 0 processing on cpu\n",
      "8.24: Job 0 ITERATION 3/3.0 complete\n"
     ]
    }
   ],
   "source": [
    "# main.py\n",
    "\n",
    "import simpy\n",
    "from QCloud import *\n",
    "\n",
    "# Devices\n",
    "ibm_kawasaki = IBM_Kawasaki(env=None, name=\"QPU-1\", printlog = False)\n",
    "# ibm_kyiv = IBM_Kyiv(env=None, name=\"QPU-2\", printlog = False)\n",
    "cpu1 = DummyCPU(\"CPU-1\", env=None)\n",
    "# cpu2 = DummyCPU(\"CPU-2\", env=None)\n",
    "# Hybrid environment\n",
    "sim_env = HybridCloudSimEnv(\n",
    "    qpu_devices=[ibm_kawasaki],\n",
    "    cpu_devices=[cpu1],\n",
    "    broker_class=ParallelBroker,\n",
    "    job_feed_method='dispatcher',\n",
    "    file_path='synth_job_batches/1-job.csv', \n",
    "    job_generation_model=None\n",
    ")\n",
    "\n",
    "sim_env.run(until=100)"
   ]
  }
 ],
 "metadata": {
  "kernelspec": {
   "display_name": "Python 3 (ipykernel)",
   "language": "python",
   "name": "python3"
  },
  "language_info": {
   "codemirror_mode": {
    "name": "ipython",
    "version": 3
   },
   "file_extension": ".py",
   "mimetype": "text/x-python",
   "name": "python",
   "nbconvert_exporter": "python",
   "pygments_lexer": "ipython3",
   "version": "3.10.9"
  }
 },
 "nbformat": 4,
 "nbformat_minor": 5
}
